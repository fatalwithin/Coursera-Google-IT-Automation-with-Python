{
 "metadata": {
  "language_info": {
   "codemirror_mode": {
    "name": "ipython",
    "version": 3
   },
   "file_extension": ".py",
   "mimetype": "text/x-python",
   "name": "python",
   "nbconvert_exporter": "python",
   "pygments_lexer": "ipython3",
   "version": "3.9.1-final"
  },
  "orig_nbformat": 2,
  "kernelspec": {
   "name": "python3",
   "display_name": "Python 3.9.1 64-bit",
   "metadata": {
    "interpreter": {
     "hash": "d96fa880a99ef24ca1a88c8f4b1612573e59d14a36bf0afd286fcab0e74cce7b"
    }
   }
  }
 },
 "nbformat": 4,
 "nbformat_minor": 2,
 "cells": [
  {
   "cell_type": "code",
   "execution_count": 1,
   "metadata": {},
   "outputs": [
    {
     "output_type": "error",
     "ename": "SyntaxError",
     "evalue": "invalid syntax (<ipython-input-1-5844fa435fcd>, line 2)",
     "traceback": [
      "\u001b[1;36m  File \u001b[1;32m\"<ipython-input-1-5844fa435fcd>\"\u001b[1;36m, line \u001b[1;32m2\u001b[0m\n\u001b[1;33m    Command\tExplanation & Link\u001b[0m\n\u001b[1;37m           \t^\u001b[0m\n\u001b[1;31mSyntaxError\u001b[0m\u001b[1;31m:\u001b[0m invalid syntax\n"
     ]
    }
   ],
   "source": [
    "Command\tExplanation & Link\n",
    "git commit -a\tStages files automatically\n",
    "git log -p\tProduces patch text\n",
    "git show\tShows various objects\n",
    "git diff\tIs similar to the Linux `diff` command, and can show the differences in various commits\n",
    "git diff --staged\tAn alias to --cached, this will show all staged files compared to the named commit\n",
    "git add -p\tAllows a user to interactively review patches to add to the current commit\n",
    "git mv\tSimilar to the Linux `mv` command, this moves a file\n",
    "git rm\tSimilar to the Linux `rm` command, this deletes, or removes a file\n",
    "\n",
    ".gitignore files\n",
    ".gitignore files are used to tell the git tool to intentionally ignore some files in a given Git repository. For example, this can be useful for configuration files or metadata files that a user may not want to check into the master branch. Check out more at: https://git-scm.com/docs/gitignore.\n",
    "\n",
    "git checkout is effectively used to switch branches.\n",
    "\n",
    "git reset basically resets the repo, throwing away some changes. It’s somewhat difficult to understand, so reading the examples in the documentation may be a bit more useful.\n",
    "\n",
    "There are some other useful articles online, which discuss more aggressive approaches to resetting the repo.\n",
    "\n",
    "git commit --amend is used to make changes to commits after-the-fact, which can be useful for making notes about a given commit.\n",
    "\n",
    "git revert makes a new commit which effectively rolls back a previous commit. It’s a bit like an undo command.\n",
    "\n",
    "git branch\tUsed to manage branches\n",
    "git branch <name> \tCreates the branch\n",
    "git branch -d <name>\tDeletes the branch\n",
    "git branch -D <name>\tForcibly deletes the branch\n",
    "git checkout <branch> \tSwitches to a branch.\n",
    "git checkout -b <branch>\tCreates a new branch and switches to it.\n",
    "git merge <branch> \tMerge joins branches together. \n",
    "git merge --abort\tIf there are merge conflicts (meaning files are incompatible), --abort can be used to abort the merge action.\n",
    "git log --graph --oneline\tThis shows a summarized view of the commit history for a repo.\n"
   ]
  },
  {
   "cell_type": "code",
   "execution_count": null,
   "metadata": {},
   "outputs": [],
   "source": [
    "Command\tExplanation & Links\n",
    "git remote \tLists remote repos\n",
    "git remote -v\tList remote repos verbosely\n",
    "git remote show <name>\tDescribes a single remote repo\n",
    "git remote update\tFetches the most up-to-date objects\n",
    "git fetch\tDownloads specific objects\n",
    "git branch -r\tLists remote branches; can be combined with other branch arguments to manage remote branches\n",
    "\n"
   ]
  },
  {
   "cell_type": "code",
   "execution_count": null,
   "metadata": {},
   "outputs": [],
   "source": [
    "By adding number of issue in commit after hashtag it automatically closes an issue in GitHub\n",
    "\n",
    "For example:\n",
    "...\n",
    "Closes: #1\n"
   ]
  }
 ]
}